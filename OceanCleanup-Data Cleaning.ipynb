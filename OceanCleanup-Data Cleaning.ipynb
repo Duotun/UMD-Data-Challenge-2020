{
 "cells": [
  {
   "cell_type": "code",
   "execution_count": 1,
   "metadata": {},
   "outputs": [],
   "source": [
    "import pandas as pd\n",
    "import numpy as np"
   ]
  },
  {
   "cell_type": "code",
   "execution_count": 2,
   "metadata": {},
   "outputs": [
    {
     "data": {
      "text/plain": [
       "'\\nedu_set.State = edu_set.State.apply(lambda x: x.split(\"\\xa0\")[1])\\npop_set.State = pop_set.State.apply(lambda x: x.split(\".\")[1])\\n'"
      ]
     },
     "execution_count": 2,
     "metadata": {},
     "output_type": "execute_result"
    }
   ],
   "source": [
    "edu_set = pd.read_excel(\"C:\\OceanCleanup\\State_Education.xlsx\")\n",
    "pop_set = pd.read_excel(\"C:\\OceanCleanup\\State_Population.xlsx\", header=1)\n",
    "county_edu_set = pd.read_excel(r'C:\\OceanCleanup\\Education.xls',header=4)\n",
    "county_eco_set = pd.read_excel(r\"C:\\OceanCleanup\\Unemployment.xls\")\n",
    "county_pop_set = pd.read_excel(r\"C:\\OceanCleanup\\PopulationEstimates.xls\")\n",
    "visit_set = pd.read_excel(r\"C:\\OceanCleanup\\US States Visited 2018.xlsx\",header=6)\n",
    "state_abbre = pd.read_excel(r\"C:\\OceanCleanup\\State_abbreviations.xlsx\")\n",
    "state_coastline = pd.read_excel(\"C:\\OceanCleanup\\State_Coastline.xlsx\")\n",
    "\n",
    "state_coastline.State = state_coastline.State.apply(lambda x: x.replace(u'\\xa0', u''))\n",
    "state_coastline.Coastline = state_coastline.Coastline.apply(lambda x: x.split(\"mi\")[0])\n",
    "state_coastline.Coastline = state_coastline.Coastline.apply(lambda x: x.replace(u'\\xa0', u''))\n",
    "state_coastline.Coastline = state_coastline.Coastline.apply(lambda x: x.replace(u',', u''))\n",
    "state_coastline.Coastline = state_coastline.Coastline.astype(\"int\")\n",
    "\n",
    "state_abbre.FullName = state_abbre.FullName.apply(lambda x: x.replace(u'\\xa0', u''))\n",
    "\n",
    "\"\"\"\n",
    "edu_set.State = edu_set.State.apply(lambda x: x.split(\"\\xa0\")[1])\n",
    "pop_set.State = pop_set.State.apply(lambda x: x.split(\".\")[1])\n",
    "\"\"\"\n",
    "#state_set = pop_set.join(edu_set.set_index(\"State\"), on=\"State\")"
   ]
  },
  {
   "cell_type": "code",
   "execution_count": 3,
   "metadata": {},
   "outputs": [],
   "source": [
    "visit_set = visit_set.rename(columns={\"STATE/TERRITORY\":\"State\",\"MARKET\":\"MarketShare\"})\n",
    "#visit_set = visit_set.set_index(\"State\")\n",
    "visit_set = visit_set.drop([2018, 'VISITATION', '%', 'MARKET.1', 'VISITATION.1'],axis=1)\n",
    "\n",
    "county_edu_set = county_edu_set.rename(columns={\"Area name\":\"County\",\"Percent of adults with a bachelor's degree or higher, 2014-18\":\"BachelorOrHigher%\",\"FIPS Code\":\"FIPS\"})\n",
    "county_edu_set = county_edu_set[[\"FIPS\",\"State\",\"County\",\"BachelorOrHigher%\"]]\n",
    "#county_edu_set = county_edu_set.set_index(\"State\")\n",
    "\n",
    "county_eco_set.Area_name = county_eco_set.Area_name.apply(lambda x: x.split(\",\")[0])\n",
    "county_eco_set = county_eco_set[[\"FIPS\",\"State\",\"Area_name\",\"Median_Household_Income_2018\"]]\n",
    "#county_eco_set = county_eco_set.set_index(\"County\")\n",
    "county_eco_set = county_eco_set.rename(columns={\"Median_Household_Income_2018\":\"medHousInc\",\"Area_name\":\"County\"})\n",
    "\n",
    "county_pop_set.Area_Name = county_pop_set.Area_Name.apply(lambda x: x.split(\",\")[0])\n",
    "county_pop_set = county_pop_set[[\"FIPS\",\"State\",\"Area_Name\",\"POP_ESTIMATE_2018\"]]\n",
    "county_pop_set = county_pop_set.rename(columns={\"POP_ESTIMATE_2018\":\"Population\",\"Area_Name\":\"County\"})\n",
    "\n",
    "temp = county_pop_set.merge(county_eco_set,on=\"FIPS\").merge(county_edu_set,on=\"FIPS\")\n",
    "temp = temp[[\"FIPS\",\"State\",\"County_y\",\"Population\",\"medHousInc\",\"BachelorOrHigher%\"]]\n",
    "temp = temp.rename(columns={\"County_y\":\"County\",\"BachelorOrHigher%\":\"Bachelor\"})\n",
    "temp = temp.merge(visit_set,on=\"State\")\n",
    "temp = temp.merge(state_abbre, on=\"State\")\n",
    "temp = temp.merge(state_coastline,how=\"left\",left_on = \"FullName\", right_on=\"State\")\n",
    "temp.Coastline = temp.Coastline.fillna(0)\n",
    "temp = temp.drop(columns=\"State_y\")\n",
    "temp = temp.rename(columns={\"State_x\":\"State\"})\n",
    "\n",
    "temp['Sea'] = pd.Series(~np.isnan(temp.Coastline))\n",
    "\n",
    "temp.to_excel(\"County_data.xlsx\")"
   ]
  },
  {
   "cell_type": "code",
   "execution_count": 4,
   "metadata": {},
   "outputs": [
    {
     "name": "stdout",
     "output_type": "stream",
     "text": [
      "37903\n",
      "37903\n"
     ]
    },
    {
     "data": {
      "text/plain": [
       "'\\ncleanup = cleanup_set.join(state_set.set_index(\"State\"), on=\"State\",how=\"left\")\\ncleanup = cleanup[[\\'State\\',\\'Country\\',\\'County\\',\\'Latitude\\',\\n                   \\'Longitude\\',\\'Cleanup Type\\',\\'Cleanup Date\\',\\n                   \\'Group Name\\',\\'Adults\\',\\'Children\\',\\n                   \\'People\\',\\'Pounds\\',\\'Miles\\',\\n                   \\'Total Items Collected\\',\\'Month\\',\\n                   \\'Year\\',\\'Year Month\\']]\\n'"
      ]
     },
     "execution_count": 4,
     "metadata": {},
     "output_type": "execute_result"
    }
   ],
   "source": [
    "cleanup_set = pd.read_excel(\"C:\\OceanCleanup\\Data_Level5_BAH_OceanCleanup.xlsx\")\n",
    "\n",
    "print(cleanup_set.shape[0])\n",
    "#cleanup_set.dropna(subset=['State',\"Total Items Collected\"], how =\"any\")\n",
    "cleanup_set.dropna()\n",
    "print(cleanup_set.shape[0])\n",
    "\n",
    "\n",
    "cleanup_set[\"Year\"] = pd.DatetimeIndex(cleanup_set[\"Cleanup Date\"]).year\n",
    "cleanup_set.dropna(subset=[\"Year\"], how =\"any\")\n",
    "cleanup_set.Year.astype(\"str\")\n",
    "cleanup_set[\"Month\"] = pd.DatetimeIndex(cleanup_set[\"Cleanup Date\"]).month\n",
    "cleanup_set.dropna(subset=[\"Month\"], how =\"any\")\n",
    "cleanup_set.Month.astype(\"str\")\n",
    "cleanup_set[\"Year Month\"] = pd.to_datetime(cleanup_set[\"Cleanup Date\"]).dt.to_period('M')\n",
    "\n",
    "\n",
    "cleanup_set.State = cleanup_set.State.astype('str')\n",
    "cleanup_set.State = cleanup_set.State.apply(lambda x: x.split(\",\")[0])\n",
    "\n",
    "cleanup_set.Zone = cleanup_set.Zone.astype('str')\n",
    "cleanup_set.Zone = cleanup_set.Zone.apply(lambda x: x.split(\",\")[0])\n",
    "cleanup_set = cleanup_set.rename(columns={\"Zone\":\"County\",\"Total Items Collected\":\"totalItems\"})\n",
    "\n",
    "\n",
    "cleanup_set[[\"Latitude\",\"Longitude\"]] = cleanup_set.GPS.str.split(\",\",expand = True)\n",
    "#pd.unique(cleanup_set.State)\n",
    "\n",
    "\"\"\"\n",
    "cleanup = cleanup_set.join(state_set.set_index(\"State\"), on=\"State\",how=\"left\")\n",
    "cleanup = cleanup[['State','Country','County','Latitude',\n",
    "                   'Longitude','Cleanup Type','Cleanup Date',\n",
    "                   'Group Name','Adults','Children',\n",
    "                   'People','Pounds','Miles',\n",
    "                   'Total Items Collected','Month',\n",
    "                   'Year','Year Month']]\n",
    "\"\"\"\n",
    "\n",
    "#cleanup.to_excel(\"cleaned_data.xlsx\")"
   ]
  },
  {
   "cell_type": "code",
   "execution_count": 5,
   "metadata": {},
   "outputs": [
    {
     "name": "stdout",
     "output_type": "stream",
     "text": [
      "(950, 2)\n",
      "(983, 11)\n",
      "(781, 11)\n"
     ]
    }
   ],
   "source": [
    "cleanup_total = cleanup_set[['County',\"State\",'totalItems',\"People\"]].groupby(['County',\"State\"]).sum()\n",
    "data = cleanup_total.merge(temp,how=\"left\",left_on=[\"County\",\"State\"],right_on=[\"County\",\"FullName\"])\n",
    "data = data.drop(columns=\"FIPS\")\n",
    "print(cleanup_total.shape)\n",
    "print(data.shape)\n",
    "data = data.dropna(how=\"any\",subset=['County',\"State\",'totalItems',\"People\"])\n",
    "print(data.shape)\n",
    "data.to_excel(\"Clean_Data.xlsx\",index=False)\n",
    "data.to_csv(r\"C:\\OceanCleanup\\Clean_Data.csv\",index=False)"
   ]
  },
  {
   "cell_type": "code",
   "execution_count": null,
   "metadata": {},
   "outputs": [],
   "source": []
  },
  {
   "cell_type": "code",
   "execution_count": null,
   "metadata": {},
   "outputs": [],
   "source": []
  }
 ],
 "metadata": {
  "kernelspec": {
   "display_name": "Python 3",
   "language": "python",
   "name": "python3"
  },
  "language_info": {
   "codemirror_mode": {
    "name": "ipython",
    "version": 3
   },
   "file_extension": ".py",
   "mimetype": "text/x-python",
   "name": "python",
   "nbconvert_exporter": "python",
   "pygments_lexer": "ipython3",
   "version": "3.7.4"
  }
 },
 "nbformat": 4,
 "nbformat_minor": 2
}
